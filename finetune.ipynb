{
  "nbformat": 4,
  "nbformat_minor": 0,
  "metadata": {
    "colab": {
      "provenance": [],
      "gpuType": "T4",
      "private_outputs": true,
      "include_colab_link": true
    },
    "kernelspec": {
      "name": "python3",
      "display_name": "Python 3"
    },
    "language_info": {
      "name": "python"
    },
    "accelerator": "GPU"
  },
  "cells": [
    {
      "cell_type": "markdown",
      "metadata": {
        "id": "view-in-github",
        "colab_type": "text"
      },
      "source": [
        "<a href=\"https://colab.research.google.com/github/korakoe/VALL-E-X/blob/main/finetune.ipynb\" target=\"_parent\"><img src=\"https://colab.research.google.com/assets/colab-badge.svg\" alt=\"Open In Colab\"/></a>"
      ]
    },
    {
      "cell_type": "markdown",
      "source": [
        "# Setup"
      ],
      "metadata": {
        "id": "_25eozXWkW_A"
      }
    },
    {
      "cell_type": "code",
      "source": [
        "# @title Mount Drive\n",
        "from google.colab import drive\n",
        "drive.mount('/content/drive')"
      ],
      "metadata": {
        "cellView": "form",
        "id": "v83hgpljkVBe"
      },
      "execution_count": null,
      "outputs": []
    },
    {
      "cell_type": "markdown",
      "source": [
        "## Download Dependancies"
      ],
      "metadata": {
        "id": "yZgwHR_2jgAY"
      }
    },
    {
      "cell_type": "code",
      "execution_count": null,
      "metadata": {
        "cellView": "form",
        "id": "IfbJnmYZjBS7"
      },
      "outputs": [],
      "source": [
        "# @title Clone Repo\n",
        "\n",
        "!git clone https://github.com/korakoe/VALL-E-X-Trainer.git\n",
        "%cd VALL-E-X-Trainer"
      ]
    },
    {
      "cell_type": "code",
      "source": [
        "# @title Install Requirements\n",
        "!pip install -r requirements.txt\n",
        "!pip install torchmetrics"
      ],
      "metadata": {
        "cellView": "form",
        "id": "bQ7cnjjPjkUG"
      },
      "execution_count": null,
      "outputs": []
    },
    {
      "cell_type": "markdown",
      "source": [
        "# Create Dataset\n",
        "Skip this section if you have already processed a dataset\n",
        "<br>\n",
        "<br>\n",
        "Dataset should be formatted like this, creating the dataset will automatically transcribe it\n",
        "```\n",
        "data_dir\n",
        "├── bpe_69.json\n",
        "├── utt1.wav\n",
        "├── utt2.wav\n",
        "├── utt3.wav\n",
        "......\n",
        "└── utt{n}.wav\n",
        "```\n",
        "\n",
        "ALTERNATIVELY!\n",
        "<br>\n",
        "You can use a slightly modified (language tags) LJSpeech dataset format, this must only have the filepath and trancript... like so\n",
        "```\n",
        "wavs/1.wav|[EN]Hello World.[EN]\n",
        "```\n",
        "\n"
      ],
      "metadata": {
        "id": "_HPDeYQKkCd4"
      }
    },
    {
      "cell_type": "code",
      "source": [
        "# @title Create Dataset (SLOW! - ONLY NEEDS TO BE DONE ONCE - LOAD FROM DRIVE IF POSSIBLE)\n",
        "data_path = \"/content/drive/MyDrive/test\" # @param {type:\"string\"}\n",
        "\n",
        "%cd VALL-E-X-Trainer\n",
        "\n",
        "import wget\n",
        "from customs.make_custom_dataset import create_dataset\n",
        "\n",
        "'''\n",
        "How should the data_dir be created?\n",
        "Place the necessary audio files in data_dir.\n",
        "Transcription, tokenization, etc. of the audio files are done by the create_dataset function.\n",
        "\n",
        "data_dir\n",
        "├── bpe_69.json\n",
        "├── utt1.wav\n",
        "├── utt2.wav\n",
        "├── utt3.wav\n",
        "......\n",
        "└── utt{n}.wav\n",
        "'''\n",
        "\n",
        "wget.download(\"https://raw.githubusercontent.com/0417keito/VALL-E-X-Trainer-by-CustomData/master/utils/g2p/bpe_69.json\", data_path)\n",
        "\n",
        "create_dataset(data_path, dataloader_process_only=True)"
      ],
      "metadata": {
        "cellView": "form",
        "id": "5P5ofpqGkHY1"
      },
      "execution_count": null,
      "outputs": []
    },
    {
      "cell_type": "code",
      "source": [
        "# @title Create Dataset (LJSPeech | Considerably Faster)\n",
        "import os\n",
        "import wget\n",
        "\n",
        "txt_path = \"/content/drive/MyDrive/voice_clones/flawful/wavs.txt\" # @param {type:\"string\"}\n",
        "\n",
        "%cd VALL-E-X-Trainer\n",
        "\n",
        "wget.download(\"https://raw.githubusercontent.com/0417keito/VALL-E-X-Trainer-by-CustomData/master/utils/g2p/bpe_69.json\", os.path.dirname(txt_path))\n",
        "\n",
        "from customs.make_custom_dataset import create_dataset_ljspeech\n",
        "\n",
        "create_dataset_ljspeech(txt_path, dataloader_process_only=True)"
      ],
      "metadata": {
        "cellView": "form",
        "id": "jYuDqkPNgx6u"
      },
      "execution_count": null,
      "outputs": []
    },
    {
      "cell_type": "markdown",
      "source": [
        "# Begin Training"
      ],
      "metadata": {
        "id": "_OqftgLHm0gY"
      }
    },
    {
      "cell_type": "code",
      "source": [
        "# @title Train Model\n",
        "%cd VALL-E-X-Trainer\n",
        "\n",
        "data_path = \"/content/drive/MyDrive/voice_clones/flawful/\" # @param {type:\"string\"}\n",
        "validation_path = \"/content/drive/MyDrive/voice_clones/flawful/\" # @param {type:\"string\"}\n",
        "dtype = \"float16\" # @param [\"float32\", \"float16\", \"bfloat16\"]\n",
        "exp_dir = \"/content/drive/MyDrive/valle/flawful\" # @param {type:\"string\"}\n",
        "model_name = \"flawful\" # @param {type:\"string\"}\n",
        "epochs = 30 # @param {type:\"integer\"}\n",
        "start_from_pretrained_checkpoint = 1 # @param {type:\"integer\"}\n",
        "base_lr = 1e-4 # @param {type:\"number\"}\n",
        "save_every_n_steps = 500 # @param {type:\"integer\"}\n",
        "valid_every_n_steps = 500 # @param {type:\"integer\"}\n",
        "keep_last = 3 # @param {type:\"integer\"}\n",
        "grad_accum = 10 # @param {type:\"integer\"}\n",
        "train_type = \"both\" # @param [\"both\", \"AR\", \"NAR\"]\n",
        "max_duration = 120 # @param {type:\"integer\"}\n",
        "max_size = 5 # @param {type:\"integer\"}\n",
        "\n",
        "if train_type == \"both\":\n",
        "  stage = 0\n",
        "elif train_type == \"AR\":\n",
        "  stage = 1\n",
        "elif train_type == \"NAR\":\n",
        "  stage = 2\n",
        "\n",
        "!python train.py \\\n",
        "--train_dir $data_path \\\n",
        "--valid_dir $validation_path \\\n",
        "--model-name $model_name \\\n",
        "--exp-dir $exp_dir \\\n",
        "--dtype $dtype \\\n",
        "--num-epochs $epochs \\\n",
        "--start-epoch $start_from_pretrained_checkpoint \\\n",
        "--base-lr $base_lr \\\n",
        "--save-every-n $save_every_n_steps \\\n",
        "--valid-interval $valid_every_n_steps \\\n",
        "--keep-last-k $keep_last \\\n",
        "--accumulate-grad-steps $grad_accum \\\n",
        "--train-stage $stage \\\n",
        "--max-duration $max_duration \\\n",
        "--max-size $max_size\n"
      ],
      "metadata": {
        "id": "VJPmGCMsnCSP",
        "cellView": "form"
      },
      "execution_count": null,
      "outputs": []
    }
  ]
}